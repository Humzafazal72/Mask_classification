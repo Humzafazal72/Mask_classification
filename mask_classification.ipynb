{
  "cells": [
    {
      "cell_type": "markdown",
      "metadata": {
        "id": "view-in-github",
        "colab_type": "text"
      },
      "source": [
        "<a href=\"https://colab.research.google.com/github/Humzafazal72/Mask_classification/blob/main/mask_classification.ipynb\" target=\"_parent\"><img src=\"https://colab.research.google.com/assets/colab-badge.svg\" alt=\"Open In Colab\"/></a>"
      ]
    },
    {
      "cell_type": "code",
      "execution_count": null,
      "metadata": {
        "id": "FdOlv1sgwNo3"
      },
      "outputs": [],
      "source": [
        "import numpy as np\n",
        "import pandas as pd\n",
        "import matplotlib.pyplot as plt\n",
        "\n",
        "import sklearn\n",
        "from tensorflow.keras.losses import SparseCategoricalCrossentropy\n",
        "from tensorflow.keras.optimizers import SGD\n",
        "from tensorflow.keras.models import Sequential\n",
        "from tensorflow.keras.applications.resnet import ResNet101\n",
        "from tensorflow.keras.layers import Dense,Conv2D,MaxPooling2D,AveragePooling2D,Flatten\n",
        "from tensorflow.keras.utils import image_dataset_from_directory"
      ]
    },
    {
      "cell_type": "code",
      "execution_count": null,
      "metadata": {
        "colab": {
          "base_uri": "https://localhost:8080/"
        },
        "id": "DBUjdcDBxbjl",
        "outputId": "723ae493-8f1a-45a4-d644-97ad9fc3ba9c"
      },
      "outputs": [
        {
          "name": "stdout",
          "output_type": "stream",
          "text": [
            "Downloading data from https://storage.googleapis.com/tensorflow/keras-applications/resnet/resnet101_weights_tf_dim_ordering_tf_kernels_notop.h5\n",
            "171446536/171446536 [==============================] - 1s 0us/step\n"
          ]
        }
      ],
      "source": [
        "base_model=ResNet101(\n",
        "    include_top=False,\n",
        "    weights='imagenet',\n",
        "    input_shape=(224,224,3)\n",
        ")\n"
      ]
    },
    {
      "cell_type": "code",
      "execution_count": null,
      "metadata": {
        "id": "SsqB-JEnDnsZ"
      },
      "outputs": [],
      "source": [
        "for layer in base_model.layers:\n",
        "  print(layer.name)"
      ]
    },
    {
      "cell_type": "code",
      "execution_count": null,
      "metadata": {
        "id": "7YEsyw_aYKI8"
      },
      "outputs": [],
      "source": [
        "trainable=False\n",
        "for layer in base_model.layers:\n",
        "  if layer.name == 'conv4_block17_1_conv':\n",
        "    trainable=True\n",
        "  if trainable:\n",
        "    layer.trainable= True\n",
        "  else:\n",
        "    layer.trainable=False"
      ]
    },
    {
      "cell_type": "code",
      "execution_count": null,
      "metadata": {
        "id": "PgNzdAh7iC3t"
      },
      "outputs": [],
      "source": [
        "!pip install patool\n"
      ]
    },
    {
      "cell_type": "code",
      "execution_count": null,
      "metadata": {
        "id": "QIChU9MOe-Bu"
      },
      "outputs": [],
      "source": [
        "patoolib.extract_archive(\"/content/drive/MyDrive/dataset_mask.rar\", outdir=\"/content/drive/MyDrive/dataset_mask\")"
      ]
    },
    {
      "cell_type": "code",
      "execution_count": null,
      "metadata": {
        "colab": {
          "base_uri": "https://localhost:8080/"
        },
        "id": "CkRWbM4lmQK0",
        "outputId": "c703b32c-9a41-498b-8648-2bc069be17f6"
      },
      "outputs": [
        {
          "name": "stdout",
          "output_type": "stream",
          "text": [
            "Found 8604 files belonging to 3 classes.\n"
          ]
        }
      ],
      "source": [
        "train= image_dataset_from_directory(\n",
        "    '/content/drive/MyDrive/dataset_mask/dataset_mask/train/',\n",
        "    image_size=(224,224),\n",
        "    batch_size=32\n",
        ")"
      ]
    },
    {
      "cell_type": "code",
      "execution_count": null,
      "metadata": {
        "colab": {
          "base_uri": "https://localhost:8080/"
        },
        "id": "jAwdgi_ICE1g",
        "outputId": "429dcdcf-cb43-4575-96a4-ffbd5e58593f"
      },
      "outputs": [
        {
          "name": "stdout",
          "output_type": "stream",
          "text": [
            "Found 2968 files belonging to 3 classes.\n"
          ]
        }
      ],
      "source": [
        "test= image_dataset_from_directory(\n",
        "    '/content/drive/MyDrive/dataset_mask/dataset_mask/test/',\n",
        "    image_size=(224,224),\n",
        ")"
      ]
    },
    {
      "cell_type": "code",
      "execution_count": null,
      "metadata": {
        "colab": {
          "base_uri": "https://localhost:8080/"
        },
        "id": "jpUfQEZmCPpD",
        "outputId": "0e2988f3-b06a-4e38-b0c0-f4e35cbbbda9"
      },
      "outputs": [
        {
          "name": "stdout",
          "output_type": "stream",
          "text": [
            "Found 2964 files belonging to 3 classes.\n"
          ]
        }
      ],
      "source": [
        "valid= image_dataset_from_directory(\n",
        "    '/content/drive/MyDrive/dataset_mask/dataset_mask/valid/',\n",
        "    image_size=(224,224),\n",
        ")"
      ]
    },
    {
      "cell_type": "code",
      "execution_count": null,
      "metadata": {
        "id": "ZyByg6nKCsTK"
      },
      "outputs": [],
      "source": [
        "model=Sequential()\n",
        "model.add(base_model)\n",
        "model.add(Flatten())\n",
        "model.add(Dense(256,activation='relu'))\n",
        "model.add(Dense(256,activation='relu'))\n",
        "model.add(Dense(3,activation='softmax'))"
      ]
    },
    {
      "cell_type": "code",
      "execution_count": null,
      "metadata": {
        "id": "94pRLbh2Ecs4"
      },
      "outputs": [],
      "source": [
        "model.compile(optimizer=SGD(learning_rate=1e-4, momentum=0.9),\n",
        "              loss=SparseCategoricalCrossentropy(),\n",
        "              metrics=['accuracy'])"
      ]
    },
    {
      "cell_type": "code",
      "execution_count": null,
      "metadata": {
        "colab": {
          "base_uri": "https://localhost:8080/"
        },
        "id": "AgNrggYaK_Sr",
        "outputId": "5762b44e-1fd7-4707-9166-c221d1f5185b"
      },
      "outputs": [
        {
          "name": "stdout",
          "output_type": "stream",
          "text": [
            "Epoch 1/5\n",
            "269/269 [==============================] - 818s 3s/step - loss: 0.1542 - accuracy: 0.9443\n",
            "Epoch 2/5\n",
            "269/269 [==============================] - 74s 269ms/step - loss: 0.0194 - accuracy: 0.9948\n",
            "Epoch 3/5\n",
            "269/269 [==============================] - 74s 269ms/step - loss: 0.0124 - accuracy: 0.9962\n",
            "Epoch 4/5\n",
            "269/269 [==============================] - 75s 271ms/step - loss: 0.0110 - accuracy: 0.9965\n",
            "Epoch 5/5\n",
            "269/269 [==============================] - 74s 270ms/step - loss: 0.0096 - accuracy: 0.9963\n"
          ]
        },
        {
          "data": {
            "text/plain": [
              "<keras.src.callbacks.History at 0x7a6d50f8fb20>"
            ]
          },
          "execution_count": 14,
          "metadata": {},
          "output_type": "execute_result"
        }
      ],
      "source": [
        "model.fit(train,epochs=5)"
      ]
    },
    {
      "cell_type": "code",
      "execution_count": null,
      "metadata": {
        "colab": {
          "base_uri": "https://localhost:8080/"
        },
        "id": "zuDm7L0KUnSQ",
        "outputId": "1badf325-2c0f-40b4-fd41-0bd4238f6061"
      },
      "outputs": [
        {
          "name": "stdout",
          "output_type": "stream",
          "text": [
            "93/93 [==============================] - 379s 4s/step - loss: 0.1542 - accuracy: 0.9626\n"
          ]
        },
        {
          "data": {
            "text/plain": [
              "[0.15416844189167023, 0.9625505805015564]"
            ]
          },
          "execution_count": 15,
          "metadata": {},
          "output_type": "execute_result"
        }
      ],
      "source": [
        "model.evaluate(valid)"
      ]
    },
    {
      "cell_type": "code",
      "execution_count": null,
      "metadata": {
        "colab": {
          "base_uri": "https://localhost:8080/"
        },
        "id": "6Aa4RvbCXILw",
        "outputId": "44050e66-5f8f-4e56-fa5c-b0bb6bca2631"
      },
      "outputs": [
        {
          "name": "stdout",
          "output_type": "stream",
          "text": [
            "93/93 [==============================] - 332s 3s/step - loss: 0.0607 - accuracy: 0.9808\n"
          ]
        },
        {
          "data": {
            "text/plain": [
              "[0.06072688102722168, 0.98079514503479]"
            ]
          },
          "execution_count": 16,
          "metadata": {},
          "output_type": "execute_result"
        }
      ],
      "source": [
        "model.evaluate(test)"
      ]
    }
  ],
  "metadata": {
    "accelerator": "GPU",
    "colab": {
      "gpuType": "T4",
      "provenance": [],
      "include_colab_link": true
    },
    "kernelspec": {
      "display_name": "Python 3",
      "name": "python3"
    },
    "language_info": {
      "name": "python"
    }
  },
  "nbformat": 4,
  "nbformat_minor": 0
}